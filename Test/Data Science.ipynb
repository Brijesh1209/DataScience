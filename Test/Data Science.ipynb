{
 "cells": [
  {
   "cell_type": "code",
   "execution_count": 1,
   "id": "9d277fc5",
   "metadata": {},
   "outputs": [],
   "source": [
    "data=\"Brijesh Pokar\""
   ]
  },
  {
   "cell_type": "code",
   "execution_count": 2,
   "id": "38f38ff7",
   "metadata": {},
   "outputs": [
    {
     "data": {
      "text/plain": [
       "'Brijesh Pokar'"
      ]
     },
     "execution_count": 2,
     "metadata": {},
     "output_type": "execute_result"
    }
   ],
   "source": [
    "data"
   ]
  },
  {
   "cell_type": "code",
   "execution_count": 3,
   "id": "e987339d",
   "metadata": {},
   "outputs": [],
   "source": [
    "a=\"My Name Is Brjesh Pokar\""
   ]
  },
  {
   "cell_type": "code",
   "execution_count": 4,
   "id": "b171ae1c",
   "metadata": {},
   "outputs": [
    {
     "data": {
      "text/plain": [
       "'My Name Is Brjesh Pokar'"
      ]
     },
     "execution_count": 4,
     "metadata": {},
     "output_type": "execute_result"
    }
   ],
   "source": [
    "a"
   ]
  },
  {
   "cell_type": "code",
   "execution_count": 5,
   "id": "0ee2e406",
   "metadata": {},
   "outputs": [
    {
     "data": {
      "text/plain": [
       "'Brijesh Pokar'"
      ]
     },
     "execution_count": 5,
     "metadata": {},
     "output_type": "execute_result"
    }
   ],
   "source": [
    "data"
   ]
  }
 ],
 "metadata": {
  "kernelspec": {
   "display_name": "Python 3 (ipykernel)",
   "language": "python",
   "name": "python3"
  },
  "language_info": {
   "codemirror_mode": {
    "name": "ipython",
    "version": 3
   },
   "file_extension": ".py",
   "mimetype": "text/x-python",
   "name": "python",
   "nbconvert_exporter": "python",
   "pygments_lexer": "ipython3",
   "version": "3.10.9"
  }
 },
 "nbformat": 4,
 "nbformat_minor": 5
}
